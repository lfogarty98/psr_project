{
 "cells": [
  {
   "cell_type": "code",
   "execution_count": 6,
   "metadata": {},
   "outputs": [],
   "source": [
    "import pyvista as pv\n",
    "import numpy as np\n",
    "import polyscope as ps\n",
    "\n",
    "\n",
    "mesh = pv.Box(level=2, quads=False)\n",
    "mesh\n",
    "ps.init()\n",
    "\n",
    "\n",
    "mesh_faces = mesh.faces.reshape(-1, 4)[:, 1:]\n",
    "\n",
    "ps_mesh = ps.register_surface_mesh(\"mesh\", mesh.points, mesh_faces)\n",
    "\n",
    "ps.show()"
   ]
  }
 ],
 "metadata": {
  "kernelspec": {
   "display_name": "venv",
   "language": "python",
   "name": "python3"
  },
  "language_info": {
   "codemirror_mode": {
    "name": "ipython",
    "version": 3
   },
   "file_extension": ".py",
   "mimetype": "text/x-python",
   "name": "python",
   "nbconvert_exporter": "python",
   "pygments_lexer": "ipython3",
   "version": "3.11.3"
  }
 },
 "nbformat": 4,
 "nbformat_minor": 2
}
