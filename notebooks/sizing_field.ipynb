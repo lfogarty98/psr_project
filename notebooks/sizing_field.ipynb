{
 "cells": [
  {
   "cell_type": "code",
   "execution_count": 1,
   "id": "90c1e0b9",
   "metadata": {},
   "outputs": [],
   "source": [
    "import numpy as np\n",
    "res =30\n",
    "xs = np.linspace(-1.,1., res)\n",
    "X = np.array(np.meshgrid(xs,xs,xs)).transpose(1,2,3,0).reshape(-1,3)"
   ]
  },
  {
   "cell_type": "code",
   "execution_count": 2,
   "id": "468a2998",
   "metadata": {},
   "outputs": [],
   "source": [
    "from scipy.spatial import Delaunay\n",
    "Dt = Delaunay(X)\n",
    "Vt, Tt = Dt.points, Dt.simplices"
   ]
  },
  {
   "cell_type": "code",
   "execution_count": 6,
   "id": "3b545bf3",
   "metadata": {},
   "outputs": [],
   "source": [
    "import igl\n",
    "V, F = igl.read_triangle_mesh(\"../data/cheburashka.off\")"
   ]
  },
  {
   "cell_type": "code",
   "execution_count": 7,
   "id": "1ec813be",
   "metadata": {},
   "outputs": [],
   "source": [
    "import gpytoolbox as gpy\n",
    "sd = gpy.squared_distance(Vt, V, F, use_cpp=True)\n",
    "sigma = 0.1\n",
    "sf = np.exp(-sd[0]/ sigma/sigma)"
   ]
  },
  {
   "cell_type": "code",
   "execution_count": 8,
   "id": "daf660f4",
   "metadata": {},
   "outputs": [
    {
     "name": "stdout",
     "output_type": "stream",
     "text": [
      "[polyscope] Backend: openGL3_glfw -- Loaded openGL version: 4.1 Metal - 83.1\n"
     ]
    }
   ],
   "source": [
    "import polyscope as ps\n",
    "ps.init()\n",
    "ps.register_point_cloud(\"X\", X)\n",
    "ps.register_surface_mesh(\"Cehbu\", V, F)\n",
    "vm = ps.register_volume_mesh(\"DT\", Vt, Tt)\n",
    "vm.add_scalar_quantity(\"sf\", sf, defined_on=\"vertices\")\n",
    "ps.show()"
   ]
  },
  {
   "cell_type": "code",
   "execution_count": null,
   "id": "de317262",
   "metadata": {},
   "outputs": [],
   "source": []
  }
 ],
 "metadata": {
  "kernelspec": {
   "display_name": "venv",
   "language": "python",
   "name": "python3"
  },
  "language_info": {
   "codemirror_mode": {
    "name": "ipython",
    "version": 3
   },
   "file_extension": ".py",
   "mimetype": "text/x-python",
   "name": "python",
   "nbconvert_exporter": "python",
   "pygments_lexer": "ipython3",
   "version": "3.11.3"
  }
 },
 "nbformat": 4,
 "nbformat_minor": 5
}
